{
  "nbformat": 4,
  "nbformat_minor": 0,
  "metadata": {
    "colab": {
      "provenance": [],
      "authorship_tag": "ABX9TyPUBQ16JGQa9SRPN9DHMkSx",
      "include_colab_link": true
    },
    "kernelspec": {
      "name": "python3",
      "display_name": "Python 3"
    },
    "language_info": {
      "name": "python"
    }
  },
  "cells": [
    {
      "cell_type": "markdown",
      "metadata": {
        "id": "view-in-github",
        "colab_type": "text"
      },
      "source": [
        "<a href=\"https://colab.research.google.com/github/oThurDev/imersaolive/blob/main/Live_Imers%C3%A3o_Alura.ipynb\" target=\"_parent\"><img src=\"https://colab.research.google.com/assets/colab-badge.svg\" alt=\"Open In Colab\"/></a>"
      ]
    },
    {
      "cell_type": "code",
      "execution_count": null,
      "metadata": {
        "colab": {
          "base_uri": "https://localhost:8080/"
        },
        "id": "fI-qoKxqcXsE",
        "outputId": "ee8f9fb2-4705-47f5-939e-01ec86ef354e"
      },
      "outputs": [
        {
          "output_type": "stream",
          "name": "stdout",
          "text": [
            "A palavra secreta tem 9 letras -> A dica é: criar dispositivos e projetos de iot (internet das coisas) com baixo custo.\n",
            "Digite sua resposta: não sei\n",
            "Você errou! A palavra era: raspberry\n"
          ]
        }
      ],
      "source": [
        "import requests #importando a biblioteca capaz de fazer requisições\n",
        "import random #importando\n",
        "\n",
        "#variabel que armazena informações que quero buscar\n",
        "url = \"https://raw.githubusercontent.com/guilhermeonrails/api-imersao-ia/main/words.json\"\n",
        "\n",
        "#fazendo a requisição e armazeno em uma variavel, e transformo em JSON\n",
        "resposta = requests.get(url)\n",
        "data = resposta.json()\n",
        "\n",
        "#acessando cada informação separado\n",
        "#toda lista em python começa com indice 0\n",
        "data[0]\n",
        "\n",
        "#variavel valorSecreto que armazena algo aleatorio da lista\n",
        "valorSecreto = random.choice(data)\n",
        "#variavel para armazenar a palavra\n",
        "palavraSecreta = valorSecreto[\"palavra\"]\n",
        "#variavel para armazenar somente a dica\n",
        "dica = valorSecreto[\"dica\"]\n",
        "\n",
        "#exibindo na tela\n",
        "#se usa f para contatenar texto com variavéis, etc...\n",
        "print (f'A palavra secreta tem {len(palavraSecreta)} letras -> A dica é: {dica}')\n",
        "\n",
        "#receber o chute da palavraSecreta\n",
        "respostaUser =  input(\"Digite sua resposta: \")\n",
        "\n",
        "if respostaUser == palavraSecreta:\n",
        "    print(\"Você acertou!\")\n",
        "else:\n",
        "    print(f\"Você errou! A palavra era: {palavraSecreta}\")"
      ]
    }
  ]
}